{
  "cells": [
    {
      "cell_type": "code",
      "execution_count": null,
      "metadata": {
        "colab": {
          "base_uri": "https://localhost:8080/"
        },
        "id": "GAVLTibiKuBO",
        "outputId": "c8211385-5af0-4f3f-b639-7620bbd39c8e"
      },
      "outputs": [],
      "source": [
        "!nvidia-smi"
      ]
    },
    {
      "cell_type": "code",
      "execution_count": null,
      "metadata": {
        "colab": {
          "base_uri": "https://localhost:8080/"
        },
        "id": "Co9JpycqLZqy",
        "outputId": "8878e836-8e4d-4a93-cf42-f6ab0949858a"
      },
      "outputs": [],
      "source": [
        "import os\n",
        "HOME = os.getcwd()\n",
        "print(HOME)"
      ]
    },
    {
      "cell_type": "code",
      "execution_count": null,
      "metadata": {
        "colab": {
          "base_uri": "https://localhost:8080/"
        },
        "id": "Bl0THrxRLkO_",
        "outputId": "03f2dc42-b9a7-4a0a-b2ee-9ccdced04a56"
      },
      "outputs": [],
      "source": [
        "# Install and check yolov8\n",
        "\n",
        "!pip install ultralytics==8.0.20\n",
        "\n",
        "from IPython import display\n",
        "display.clear_output()\n",
        "\n",
        "import ultralytics\n",
        "ultralytics.checks()"
      ]
    },
    {
      "cell_type": "code",
      "execution_count": null,
      "metadata": {
        "colab": {
          "base_uri": "https://localhost:8080/"
        },
        "id": "0jadwS0KL2cv",
        "outputId": "56a6db6a-e876-49a2-81cf-0effd9e7fba3"
      },
      "outputs": [],
      "source": [
        "!pip install roboflow\n",
        "\n",
        "from roboflow import Roboflow\n",
        "rf = Roboflow(api_key=\"ADD-YOUR-API-KEY-HERE\")\n",
        "project = rf.workspace(\"trash-20\").project(\"trash-2.0\")\n",
        "version = project.version(1)\n",
        "dataset = version.download(\"yolov8\")"
      ]
    },
    {
      "cell_type": "code",
      "execution_count": null,
      "metadata": {
        "colab": {
          "base_uri": "https://localhost:8080/"
        },
        "id": "X91G3tsXML5J",
        "outputId": "06490012-0231-456e-9428-cfa1940db40e"
      },
      "outputs": [],
      "source": [
        "# Train the model with the dataset using yoloV8\n",
        "\n",
        "!yolo task=detect mode=train model=yolov8s.pt data=/content/Trash-2.0-1/data.yaml epochs=50 plots=True"
      ]
    }
  ],
  "metadata": {
    "accelerator": "GPU",
    "colab": {
      "gpuType": "T4",
      "provenance": []
    },
    "kernelspec": {
      "display_name": "Python 3",
      "name": "python3"
    },
    "language_info": {
      "name": "python"
    }
  },
  "nbformat": 4,
  "nbformat_minor": 0
}
